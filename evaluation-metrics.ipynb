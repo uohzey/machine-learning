{
 "cells": [
  {
   "cell_type": "markdown",
   "id": "2134673d-5da8-4fd4-a73b-a33d5bbb522c",
   "metadata": {},
   "source": [
    "### 分类问题\n",
    "- 准确率\n",
    "- 精确率\n",
    "- 召回率\n",
    "- F1分数\n",
    "- AUC\n",
    "- 对数损失(Log loss)\n",
    "- k精确率(P@k)\n",
    "- k平均精确率(AP@k)\n",
    "- k均值平均精确率(MAP@k)\n",
    "\n",
    "### 回归问题\n",
    "- 平均绝对误差(MAE)\n",
    "- 均方差(MSE)\n",
    "- 均方根差(RMSE)\n",
    "- 均方根对数差(RMSLE)\n",
    "- 平均百分比误差(MPE)\n",
    "- 平均绝对百分比误差(MAPE)\n",
    "- $R^2$\n",
    "\n",
    "选取什么指标与目标有关,与数据无关"
   ]
  },
  {
   "cell_type": "markdown",
   "id": "d1515b46-c7c8-4463-9d1c-4f2089561cd3",
   "metadata": {},
   "source": [
    "在二元分类指标中,当正负样本数量相等时,通常使用准确率,精确率,召回率和F1"
   ]
  },
  {
   "cell_type": "code",
   "execution_count": 19,
   "id": "1ea77941-4e34-4b5c-8787-635b30695cbf",
   "metadata": {},
   "outputs": [],
   "source": [
    "## 准确率\n",
    "def accuracy(y_true, y_pred):\n",
    "    # 为正确预测数初始化一个简单计数器\n",
    "    correct_counter = 0\n",
    "    # 遍历y_true, y_pred中所有元素\n",
    "    for yt, yp in zip(y_true, y_pred):\n",
    "        if yt == yp:\n",
    "            correct_counter += 1\n",
    "    return correct_counter / len(y_true)"
   ]
  },
  {
   "cell_type": "code",
   "execution_count": 20,
   "id": "7218c5e5-5019-4370-8d82-6882607d8cb2",
   "metadata": {},
   "outputs": [
    {
     "name": "stdout",
     "output_type": "stream",
     "text": [
      "0.625\n"
     ]
    }
   ],
   "source": [
    "# 使用scikit-learn计算准确率\n",
    "from sklearn import metrics\n",
    "\n",
    "l1 = [0,1,1,1,0,0,0,1]\n",
    "l2 = [0,1,0,1,0,1,0,0]\n",
    "\n",
    "print(metrics.accuracy_score(l1, l2))"
   ]
  },
  {
   "cell_type": "markdown",
   "id": "2184ef3f-db1b-41b5-9511-7780591ae181",
   "metadata": {},
   "source": [
    "偏斜数据集,也就是说,一个类别中的样本数量比另一个类别中的样本数量多很多.\n",
    "\n",
    "在这种情况下,使用准确率作为评估指标是不可取的,因为它不能代表数据.\n",
    "\n",
    "真阳性(True Positive)\n",
    "真阴性(True Negative)\n",
    "假阳性(False Positive)\n",
    "假阴性(False Negative)"
   ]
  },
  {
   "cell_type": "code",
   "execution_count": 13,
   "id": "bb713d9a-2c0b-4b4f-a3f0-96437011f462",
   "metadata": {},
   "outputs": [],
   "source": [
    "def true_positive(y_true, y_pred):\n",
    "    # 初始化真阳性样本计数器\n",
    "    tp = 0\n",
    "    # 遍历y_true，y_pred中所有元素\n",
    "    for yt, yp in zip(y_true, y_pred): \n",
    "        # 若真实标签为正类且预测标签也为正类，计数器增加\n",
    "        if yt == 1 and yp == 1:\n",
    "            tp += 1 \n",
    "    # 返回真阳性样本数\n",
    "    return tp\n",
    "\n",
    "def true_negative(y_true, y_pred):\n",
    "    # 初始化真阴性样本计数器\n",
    "    tn = 0\n",
    "    # 遍历y_true，y_pred中所有元素\n",
    "    for yt, yp in zip(y_true, y_pred): \n",
    "        # 若真实标签为负类且预测标签也为负类，计数器增加\n",
    "        if yt == 0 and yp == 0:\n",
    "            tn += 1 \n",
    "    # 返回真阴性样本数\n",
    "    return tn\n",
    "\n",
    "def false_positive(y_true, y_pred):\n",
    "    # 初始化假阳性计数器\n",
    "    fp = 0\n",
    "    # 遍历y_true，y_pred中所有元素\n",
    "    for yt, yp in zip(y_true, y_pred): \n",
    "        # 若真实标签为负类而预测标签为正类，计数器增加\n",
    "        if yt == 0 and yp == 1:\n",
    "            fp += 1 \n",
    "    # 返回假阳性样本数\n",
    "    return fp\n",
    "\n",
    "def false_negative(y_true, y_pred):\n",
    "    # 初始化假阴性计数器\n",
    "    fn = 0\n",
    "    # 遍历y_true，y_pred中所有元素\n",
    "    for yt, yp in zip(y_true, y_pred): \n",
    "        # 若真实标签为正类而预测标签为负类，计数器增加\n",
    "        if yt == 1 and yp == 0:\n",
    "            fn += 1 \n",
    "    # 返回假阴性数\n",
    "    return fn"
   ]
  },
  {
   "cell_type": "markdown",
   "id": "1eb2df1a-8406-4d7e-b073-541815c0f6cb",
   "metadata": {},
   "source": [
    "以上方法只适用于二元分类\n",
    "用以上术语定义准确率,可以写为:\n",
    "\n",
    "$AccuracyScore = (TP + TN)/(TP + TN + FP + FP + FN)$"
   ]
  },
  {
   "cell_type": "code",
   "execution_count": 17,
   "id": "56fc97fe-202b-4468-aaa4-fc1fa4c636c3",
   "metadata": {},
   "outputs": [],
   "source": [
    "def accuracy_v2(y_true, y_pred):\n",
    "    # 真阳性样本数\n",
    "    tp = true_positive(y_true, y_pred)\n",
    "    # 假阳性样本数\n",
    "    fp = false_positive(y_true, y_pred)\n",
    "    # 假阴性样本数\n",
    "    fn = false_negative(y_true, y_pred)\n",
    "    # 真阴性样本数\n",
    "    tn = true_negative(y_true, y_pred)\n",
    "    # 准确率\n",
    "    accuracy_score = (tp + tn) / (tp + tn + fp + fn) \n",
    "    return accuracy_score"
   ]
  },
  {
   "cell_type": "code",
   "execution_count": 21,
   "id": "84deade2-ca3b-4834-ab84-4c4e838b2381",
   "metadata": {},
   "outputs": [
    {
     "name": "stdout",
     "output_type": "stream",
     "text": [
      "0.625\n",
      "0.625\n",
      "0.625\n"
     ]
    }
   ],
   "source": [
    "print(accuracy(l1, l2))\n",
    "print(accuracy_v2(l1, l2))\n",
    "print(metrics.accuracy_score(l1, l2))"
   ]
  },
  {
   "cell_type": "markdown",
   "id": "69340660-faf0-442c-aa14-53bbd26fac64",
   "metadata": {},
   "source": [
    "精确率:在识别阳性样本时有多少正确率\n",
    "\n",
    "$Precision = TP / (TP + FP)$"
   ]
  },
  {
   "cell_type": "code",
   "execution_count": 23,
   "id": "a8da9e36-fb3c-452b-a5d0-b543fe46d5ff",
   "metadata": {},
   "outputs": [],
   "source": [
    "def precision(y_true, y_pred):\n",
    "    # 真阳性样本数\n",
    "    tp = true_positive(y_true, y_pred) \n",
    "    # 假阳性样本数\n",
    "    fp = false_positive(y_true, y_pred)\n",
    "    # 精确率\n",
    "    precision = tp / (tp + fp)\n",
    "    return precision"
   ]
  },
  {
   "cell_type": "code",
   "execution_count": 24,
   "id": "fa0eb843-3a44-4eb6-b69f-a9dfdb0cc7d0",
   "metadata": {},
   "outputs": [
    {
     "name": "stdout",
     "output_type": "stream",
     "text": [
      "0.6666666666666666\n"
     ]
    }
   ],
   "source": [
    "print(precision(l1, l2))"
   ]
  },
  {
   "cell_type": "markdown",
   "id": "0c63e188-a96e-4709-b812-3c9e3abf5144",
   "metadata": {},
   "source": [
    "召回率:识别了多少阳性样本\n",
    "\n",
    "$Recall = TP / (TP + FN)$"
   ]
  },
  {
   "cell_type": "code",
   "execution_count": 26,
   "id": "0927f4f7-c4f3-4149-8044-4c184abeb8ae",
   "metadata": {},
   "outputs": [],
   "source": [
    "def recall(y_true, y_pred):\n",
    "    # 真阳性样本数\n",
    "    tp = true_positive(y_true, y_pred) \n",
    "    # 假阴性样本数\n",
    "    fn = false_negative(y_true, y_pred) \n",
    "    # 召回率\n",
    "    recall = tp / (tp + fn)\n",
    "    return recall"
   ]
  },
  {
   "cell_type": "code",
   "execution_count": 27,
   "id": "740ee56b-7828-477d-b876-dea99ef5f25d",
   "metadata": {},
   "outputs": [
    {
     "name": "stdout",
     "output_type": "stream",
     "text": [
      "0.5\n"
     ]
    }
   ],
   "source": [
    "print(recall(l1, l2))"
   ]
  },
  {
   "cell_type": "markdown",
   "id": "45386301-1631-4d11-afba-26c2296cfb69",
   "metadata": {},
   "source": [
    "对于一个好的模型而言,精确率和召回率都应该很高\n",
    "F1分数时精确率和召回率的综合指标,并定义为精确率和召回率的简单加权平均值,\n",
    "\n",
    "$F1 = 2PR / (P + R)$\n",
    "\n",
    "$F1 = 2TP / (2TP + TP + FN)$"
   ]
  },
  {
   "cell_type": "code",
   "execution_count": 29,
   "id": "1b1389f1-6265-49f7-8ec8-7e9a4f23411b",
   "metadata": {},
   "outputs": [],
   "source": [
    "def f1(y_true, y_pred):\n",
    "    # 计算精确率\n",
    "    p = precision(y_true, y_pred) \n",
    "    # 计算召回率\n",
    "    r = recall(y_true, y_pred)\n",
    "    # 计算f1值\n",
    "    score = 2 * p * r / (p + r) \n",
    "    return score"
   ]
  },
  {
   "cell_type": "code",
   "execution_count": 32,
   "id": "f1628bb8-86d3-4eb0-b201-76fd93f5cde1",
   "metadata": {},
   "outputs": [
    {
     "data": {
      "text/plain": [
       "0.5714285714285715"
      ]
     },
     "execution_count": 32,
     "metadata": {},
     "output_type": "execute_result"
    }
   ],
   "source": [
    "metrics.f1_score(l1, l2)"
   ]
  },
  {
   "cell_type": "code",
   "execution_count": 33,
   "id": "2e5c2357-7c48-441b-9dd0-36e9fa24fd66",
   "metadata": {},
   "outputs": [
    {
     "data": {
      "text/plain": [
       "0.5714285714285715"
      ]
     },
     "execution_count": 33,
     "metadata": {},
     "output_type": "execute_result"
    }
   ],
   "source": [
    "f1(l1,l2)"
   ]
  },
  {
   "cell_type": "markdown",
   "id": "47fea41c-29b3-4bb4-b218-7096451ebe42",
   "metadata": {},
   "source": [
    "TPR(真阳性率)跟Recall相同,FPR(False Positive Rate)"
   ]
  },
  {
   "cell_type": "code",
   "execution_count": 34,
   "id": "0d3a2b7c-b375-4f7f-836e-947ba2e0f19d",
   "metadata": {},
   "outputs": [],
   "source": [
    "def fpr(y_true, y_pred):\n",
    "    # 假阳性样本数\n",
    "    fp = false_positive(y_true, y_pred) \n",
    "    # 真阴性样本数\n",
    "    tn = true_negative(y_true, y_pred) \n",
    "    # 返回假阳性率（FPR）\n",
    "    return fp / (tn + fp)"
   ]
  },
  {
   "cell_type": "code",
   "execution_count": 36,
   "id": "615ef4d8-a6b4-4da4-993a-8cc4febae5fd",
   "metadata": {},
   "outputs": [],
   "source": [
    "def tpr(y_true, y_pred):\n",
    "    # 真阳性率（TPR），与召回率计算公式一致\n",
    "    return recall(y_true, y_pred)"
   ]
  },
  {
   "cell_type": "code",
   "execution_count": 39,
   "id": "d50f309a-2996-4e26-80c3-f6892bc16b68",
   "metadata": {
    "tags": []
   },
   "outputs": [],
   "source": [
    "# 初始化真阳性率列表\n",
    "tpr_list = [] \n",
    "\n",
    "# 初始化假阳性率列表\n",
    "fpr_list = []\n",
    "\n",
    "# 真实样本标签\n",
    "y_true = [0, 0, 0, 0, 1, 0, 1, 0, 0, 1, 0, 1, 0, 0, 1]\n",
    "\n",
    "# 预测样本为正类（1）的概率\n",
    "y_pred = [0.1, 0.3, 0.2, 0.6, 0.8, 0.05, \n",
    "          0.9, 0.5, 0.3, 0.66, 0.3, 0.2,\n",
    "          0.85, 0.15, 0.99]\n",
    "\n",
    "# 预测阈值\n",
    "thresholds = [0, 0.1, 0.2, 0.3, 0.4, 0.5,\n",
    "              0.6, 0.7, 0.8, 0.85, 0.9, 0.99, 1.0]\n",
    "\n",
    "# 遍历预测阈值\n",
    "for thresh in thresholds:\n",
    "    # 若样本为正类（1）的概率大于阈值，为1，否则为0\n",
    "    temp_pred = [1 if x >= thresh else 0 for x in y_pred] \n",
    "    # 真阳性率\n",
    "    temp_tpr = tpr(y_true, temp_pred)\n",
    "    # 假阳性率\n",
    "    temp_fpr = fpr(y_true, temp_pred)\n",
    "    # 将真阳性率加入列表\n",
    "    tpr_list.append(temp_tpr) \n",
    "    # 将假阳性率加入列表\n",
    "    fpr_list.append(temp_fpr)"
   ]
  },
  {
   "cell_type": "code",
   "execution_count": 56,
   "id": "cdd11c91-9e6d-4aad-8c10-3ee12837628c",
   "metadata": {},
   "outputs": [
    {
     "data": {
      "text/plain": [
       "5"
      ]
     },
     "execution_count": 56,
     "metadata": {},
     "output_type": "execute_result"
    }
   ],
   "source": [
    "temp_pred = [1 if x >= 0 else 0 for x in y_pred]\n",
    "temp_pred\n",
    "y_true\n",
    "fpr(y_true, temp_pred)\n",
    "tpr(y_true, temp_pred)\n",
    "true_positive(y_true, temp_pred)"
   ]
  },
  {
   "cell_type": "code",
   "execution_count": 45,
   "id": "23982f3f-338c-411f-bcf5-5d59ca811634",
   "metadata": {},
   "outputs": [
    {
     "name": "stdout",
     "output_type": "stream",
     "text": [
      "[1.0, 1.0, 1.0, 0.8, 0.8, 0.8, 0.8, 0.6, 0.6, 0.4, 0.4, 0.2, 0.0]\n",
      "[1.0, 0.9, 0.7, 0.6, 0.3, 0.3, 0.2, 0.1, 0.1, 0.1, 0.0, 0.0, 0.0]\n"
     ]
    }
   ],
   "source": [
    "print(tpr_list)\n",
    "print(fpr_list)"
   ]
  },
  {
   "cell_type": "code",
   "execution_count": null,
   "id": "010f2761-87b3-425d-af91-3a9b845475fa",
   "metadata": {},
   "outputs": [],
   "source": [
    "import matplotlib.pyplot as plt\n",
    "%matplotlib inline"
   ]
  },
  {
   "cell_type": "code",
   "execution_count": 57,
   "id": "28bdd2dc-51c5-486a-b41a-2e289f14a873",
   "metadata": {
    "tags": []
   },
   "outputs": [
    {
     "data": {
      "text/plain": [
       "Text(0, 0.5, 'tpr')"
      ]
     },
     "execution_count": 57,
     "metadata": {},
     "output_type": "execute_result"
    },
    {
     "data": {
      "image/png": "[encoded data removed]",
      "text/plain": [
       "<Figure size 504x504 with 1 Axes>"
      ]
     },
     "metadata": {
      "needs_background": "light"
     },
     "output_type": "display_data"
    }
   ],
   "source": [
    "plt.figure(figsize=(7,7))\n",
    "plt.plot(fpr_list, tpr_list)\n",
    "plt.xlabel('fpr', fontsize=15)\n",
    "plt.ylabel('tpr', fontsize=15)"
   ]
  },
  {
   "cell_type": "code",
   "execution_count": null,
   "id": "e99ce919-4e79-4e06-96fe-be5475346b06",
   "metadata": {},
   "outputs": [],
   "source": [
    "ROC曲线,计算这条ROC曲线下的面积,就是在计算AUC,当数据集的二元目标倾斜时,这个指标非常有用\n",
    "\n",
    "ROC曲线线下面积(Area Under ROC Curve or Area Under Curve),简称AUC"
   ]
  },
  {
   "cell_type": "code",
   "execution_count": 60,
   "id": "2efe9c39-f6fa-4748-b963-82114ed31ab9",
   "metadata": {},
   "outputs": [
    {
     "data": {
      "text/plain": [
       "0.8300000000000001"
      ]
     },
     "execution_count": 60,
     "metadata": {},
     "output_type": "execute_result"
    }
   ],
   "source": [
    "from sklearn import metrics\n",
    "\n",
    "# 真实样本标签\n",
    "y_true = [0, 0, 0, 0, 1, 0, 1, 0, 0, 1, 0, 1, 0, 0, 1]\n",
    "\n",
    "# 预测样本为正类（1）的概率\n",
    "y_pred = [0.1, 0.3, 0.2, 0.6, 0.8, 0.05, \n",
    "          0.9, 0.5, 0.3, 0.66, 0.3, 0.2,\n",
    "          0.85, 0.15, 0.99]\n",
    "\n",
    "metrics.roc_auc_score(y_true, y_pred)"
   ]
  },
  {
   "cell_type": "markdown",
   "id": "f39a2e03-ce0a-4618-aa79-a9b556b9ac8e",
   "metadata": {},
   "source": [
    "AUC是业内广泛应用于偏斜二元分类任务的指标,一旦理解了AUC背后的理念,也就更容易向业界可能回评估您的模型的非技术人员解释它\n",
    "\n",
    "如果不希望有太多的FP(假阳),阈值就应该高一些,不过这也会带来更多的FN(假阴)"
   ]
  }
 ],
 "metadata": {
  "kernelspec": {
   "display_name": "Python 3",
   "language": "python",
   "name": "python3"
  },
  "language_info": {
   "codemirror_mode": {
    "name": "ipython",
    "version": 3
   },
   "file_extension": ".py",
   "mimetype": "text/x-python",
   "name": "python",
   "nbconvert_exporter": "python",
   "pygments_lexer": "ipython3",
   "version": "3.6.8"
  }
 },
 "nbformat": 4,
 "nbformat_minor": 5
}
