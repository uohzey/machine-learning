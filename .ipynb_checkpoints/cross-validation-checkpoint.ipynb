{
 "cells": [
  {
   "cell_type": "code",
   "execution_count": 2,
   "id": "0dc2eb1f-0c1d-4af7-a336-d2542b513f90",
   "metadata": {},
   "outputs": [],
   "source": [
    "import pandas as pd \n",
    "df = pd.read_csv(\"DataSet/archive/winequality-red.csv\")"
   ]
  },
  {
   "cell_type": "code",
   "execution_count": 3,
   "id": "ad86b663-1ccd-4567-925b-8875d0e5a1b9",
   "metadata": {},
   "outputs": [
    {
     "name": "stdout",
     "output_type": "stream",
     "text": [
      "      fixed acidity  volatile acidity  citric acid  residual sugar  chlorides  \\\n",
      "0               7.4             0.700         0.00             1.9      0.076   \n",
      "1               7.8             0.880         0.00             2.6      0.098   \n",
      "2               7.8             0.760         0.04             2.3      0.092   \n",
      "3              11.2             0.280         0.56             1.9      0.075   \n",
      "4               7.4             0.700         0.00             1.9      0.076   \n",
      "...             ...               ...          ...             ...        ...   \n",
      "1594            6.2             0.600         0.08             2.0      0.090   \n",
      "1595            5.9             0.550         0.10             2.2      0.062   \n",
      "1596            6.3             0.510         0.13             2.3      0.076   \n",
      "1597            5.9             0.645         0.12             2.0      0.075   \n",
      "1598            6.0             0.310         0.47             3.6      0.067   \n",
      "\n",
      "      free sulfur dioxide  total sulfur dioxide  density    pH  sulphates  \\\n",
      "0                    11.0                  34.0  0.99780  3.51       0.56   \n",
      "1                    25.0                  67.0  0.99680  3.20       0.68   \n",
      "2                    15.0                  54.0  0.99700  3.26       0.65   \n",
      "3                    17.0                  60.0  0.99800  3.16       0.58   \n",
      "4                    11.0                  34.0  0.99780  3.51       0.56   \n",
      "...                   ...                   ...      ...   ...        ...   \n",
      "1594                 32.0                  44.0  0.99490  3.45       0.58   \n",
      "1595                 39.0                  51.0  0.99512  3.52       0.76   \n",
      "1596                 29.0                  40.0  0.99574  3.42       0.75   \n",
      "1597                 32.0                  44.0  0.99547  3.57       0.71   \n",
      "1598                 18.0                  42.0  0.99549  3.39       0.66   \n",
      "\n",
      "      alcohol  quality  \n",
      "0         9.4        5  \n",
      "1         9.8        5  \n",
      "2         9.8        5  \n",
      "3         9.8        6  \n",
      "4         9.4        5  \n",
      "...       ...      ...  \n",
      "1594     10.5        5  \n",
      "1595     11.2        6  \n",
      "1596     11.0        6  \n",
      "1597     10.2        5  \n",
      "1598     11.0        6  \n",
      "\n",
      "[1599 rows x 12 columns]\n"
     ]
    }
   ],
   "source": [
    "print(df)"
   ]
  },
  {
   "cell_type": "code",
   "execution_count": 4,
   "id": "fc3ba054-ab1d-4198-bf1e-199dac72ff6a",
   "metadata": {},
   "outputs": [],
   "source": [
    "# 一个映射字典，用于将质量值从 0 到 5 进行映射\n",
    "quality_mapping = {\n",
    " 3: 0,\n",
    " 4: 1,\n",
    " 5: 2,\n",
    " 6: 3,\n",
    " 7: 4,\n",
    " 8: 5\n",
    " }\n",
    " # 你可以使用 pandas 的 map 函数以及任何字典，\n",
    "# 来转换给定列中的值为字典中的值\n",
    "df.loc[:, \"quality\"] = df.quality.map(quality_mapping)"
   ]
  },
  {
   "cell_type": "code",
   "execution_count": 5,
   "id": "6e0962f4-fd83-44e2-a594-6b9ba3291903",
   "metadata": {},
   "outputs": [],
   "source": [
    "# 使用 frac=1 的 sample 方法来打乱 dataframe\n",
    " # 由于打乱后索引会改变，所以我们重置索引\n",
    "df = df.sample(frac=1).reset_index(drop=True)\n",
    " # 选取前 1000 行作为训练数据\n",
    "df_train = df.head(1000)\n",
    " # 选取最后的 599 行作为测试/验证数据\n",
    "df_test = df.tail(599)"
   ]
  },
  {
   "cell_type": "code",
   "execution_count": 11,
   "id": "a5562b07-8d45-4d3b-b38a-f25bbd721046",
   "metadata": {},
   "outputs": [
    {
     "data": {
      "text/plain": [
       "DecisionTreeClassifier(class_weight=None, criterion='gini', max_depth=7,\n",
       "                       max_features=None, max_leaf_nodes=None,\n",
       "                       min_impurity_decrease=0.0, min_impurity_split=None,\n",
       "                       min_samples_leaf=1, min_samples_split=2,\n",
       "                       min_weight_fraction_leaf=0.0, presort=False,\n",
       "                       random_state=None, splitter='best')"
      ]
     },
     "execution_count": 11,
     "metadata": {},
     "output_type": "execute_result"
    }
   ],
   "source": [
    "# 从 scikit-learn 导入需要的模块\n",
    "from sklearn import tree\n",
    "from sklearn import metrics\n",
    "# 初始化一个决策树分类器，设置最大深度为 3/7\n",
    "clf = tree.DecisionTreeClassifier(max_depth=7)\n",
    "# 选择你想要训练模型的列\n",
    "# 这些列作为模型的特征\n",
    "cols = ['fixed acidity',\n",
    " 'volatile acidity',\n",
    " 'citric acid',\n",
    " 'residual sugar',\n",
    " 'chlorides',\n",
    " 'free sulfur dioxide',\n",
    " 'total sulfur dioxide',\n",
    " 'density',\n",
    " 'pH',\n",
    " 'sulphates',\n",
    " 'alcohol']\n",
    " # 使用之前映射的质量以及提供的特征来训练模型\n",
    "clf.fit(df_train[cols], df_train.quality)"
   ]
  },
  {
   "cell_type": "code",
   "execution_count": 12,
   "id": "e7d274ef-e7cf-469e-93f8-b56b0465a221",
   "metadata": {},
   "outputs": [],
   "source": [
    "# 在训练集上生成预测\n",
    "train_predictions = clf.predict(df_train[cols])\n",
    "# 在测试集上生成预测\n",
    "test_predictions = clf.predict(df_test[cols])\n",
    " # 计算训练数据集上预测的准确度\n",
    "train_accuracy = metrics.accuracy_score(\n",
    "    df_train.quality, train_predictions\n",
    ")\n",
    " # 计算测试数据集上预测的准确度\n",
    "test_accuracy = metrics.accuracy_score(\n",
    "    df_test.quality, test_predictions\n",
    ")"
   ]
  },
  {
   "cell_type": "code",
   "execution_count": 13,
   "id": "44f3eb8d-80d9-4d5a-868e-6d63642847d9",
   "metadata": {},
   "outputs": [
    {
     "name": "stdout",
     "output_type": "stream",
     "text": [
      "0.8 0.5959933222036727\n"
     ]
    }
   ],
   "source": [
    "print(train_accuracy, test_accuracy)"
   ]
  },
  {
   "cell_type": "code",
   "execution_count": 15,
   "id": "5c2151db-b5ac-4b14-a41f-b18262b85203",
   "metadata": {},
   "outputs": [
    {
     "data": {
      "image/png": "[encoded data removed]",
      "text/plain": [
       "<Figure size 720x360 with 1 Axes>"
      ]
     },
     "metadata": {
      "needs_background": "light"
     },
     "output_type": "display_data"
    }
   ],
   "source": [
    "# 导入 scikit-learn 的 tree 和 metrics\n",
    "from sklearn import tree\n",
    "from sklearn import metrics\n",
    "# 导入 matplotlib 和 seaborn\n",
    "# 用于绘图\n",
    "import matplotlib\n",
    "import matplotlib.pyplot as plt\n",
    "import seaborn as sns\n",
    " # 设置全局标签文本的大小\n",
    "matplotlib.rc('xtick', labelsize=20)\n",
    "matplotlib.rc('ytick', labelsize=20)\n",
    " # 确保图表直接在笔记本内显示\n",
    "%matplotlib inline\n",
    "# 初始化用于存储训练和测试准确度的列表\n",
    "# 我们从 50% 的准确度开始\n",
    "train_accuracies = [0.5]\n",
    "test_accuracies = [0.5]\n",
    "# 遍历几个不同的树深度值\n",
    "for depth in range(1, 25):\n",
    "    # 初始化模型\n",
    "    clf = tree.DecisionTreeClassifier(max_depth=depth)\n",
    "    # 选择用于训练的列/特征\n",
    "    cols = [\n",
    "        'fixed acidity', 'volatile acidity', 'citric acid',\n",
    "        'residual sugar', 'chlorides', 'free sulfur dioxide',\n",
    "        'total sulfur dioxide', 'density', 'pH',\n",
    "        'sulphates', 'alcohol'\n",
    "    ]\n",
    "\n",
    "    # 在给定特征上拟合模型\n",
    "    clf.fit(df_train[cols], df_train.quality)\n",
    "\n",
    "    # 创建训练和测试预测\n",
    "    train_predictions = clf.predict(df_train[cols])\n",
    "    test_predictions = clf.predict(df_test[cols])\n",
    "\n",
    "    # 计算训练和测试准确度\n",
    "    train_accuracy = metrics.accuracy_score(\n",
    "        df_train.quality, train_predictions\n",
    "    )\n",
    "    test_accuracy = metrics.accuracy_score(\n",
    "        df_test.quality, test_predictions\n",
    "    )\n",
    "\n",
    "    # 添加准确度到列表\n",
    "    train_accuracies.append(train_accuracy)\n",
    "    test_accuracies.append(test_accuracy)\n",
    " \n",
    "# 使用 matplotlib 和 seaborn 创建两个图\n",
    "plt.figure(figsize=(10, 5))\n",
    "sns.set_style(\"whitegrid\")\n",
    "plt.plot(train_accuracies, label=\"train accuracy\")\n",
    "plt.plot(test_accuracies, label=\"test accuracy\")\n",
    "plt.legend(loc=\"upper left\", prop={'size': 15})\n",
    "plt.xticks(range(0, 26, 5))\n",
    "plt.xlabel(\"max_depth\", size=20)\n",
    "plt.ylabel(\"accuracy\", size=20)\n",
    "plt.show()"
   ]
  },
  {
   "cell_type": "markdown",
   "id": "a8ce85ee-b234-4591-87aa-6b7a52d75e77",
   "metadata": {},
   "source": [
    "### K折交叉检验\n",
    "使用scikit-learn中的KFold将数据分割成k个相等的部分，每个样本分配一个从0到k-1的值"
   ]
  },
  {
   "cell_type": "code",
   "execution_count": 18,
   "id": "76efd03d-49af-4f1b-82b8-baa70d83fcf8",
   "metadata": {},
   "outputs": [],
   "source": [
    "# 导入 pandas 和 scikit-learn 的 model_selection 模块\n",
    "import pandas as pd\n",
    "from sklearn import model_selection\n",
    "\n",
    "if __name__ == \"__main__\":\n",
    "    # 训练数据存储在名为 train.csv 的 CSV 文件中\n",
    "    df = pd.read_csv(\"DataSet/archive/winequality-red.csv\")\n",
    "    # 我们创建一个名为 kfold 的新列，并用 -1 填充\n",
    "    df[\"kfold\"] = -1\n",
    "    # 接下来的步骤是随机打乱数据的行\n",
    "    df = df.sample(frac=1).reset_index(drop=True)\n",
    "    # 从 model_selection 模块初始化 kfold 类\n",
    "    kf = model_selection.KFold(n_splits=5)\n",
    "    # 填充新的 kfold 列（enumerate的作用是返回一个迭代器）\n",
    "    for fold, (trn_, val_) in enumerate(kf.split(X=df)):\n",
    "        df.loc[val_, 'kfold'] = fold\n",
    "    # 保存带有 kfold 列的新 CSV 文件\n",
    "    df.to_csv(\"DataSet/archive/winequality-red_folds.csv\", index=False)"
   ]
  },
  {
   "cell_type": "markdown",
   "id": "6769e137-b36d-47ec-a4da-fd7bd9308b91",
   "metadata": {},
   "source": [
    "### 分层K折交叉检验\n",
    "如果有一个偏斜的二元分类数据集,其中正样本占90%,负样本占10%,就不应该用随机K折交叉\n",
    "只需将model_selection.KFold更改为model_selection.StratifiedKFold,并在kf.split(...)函数中指定要分层的目标列"
   ]
  },
  {
   "cell_type": "code",
   "execution_count": 20,
   "id": "947ead08-9f6e-4be9-bcaa-d84cdba97a46",
   "metadata": {},
   "outputs": [],
   "source": [
    "# 导入 pandas 和 scikit-learn 的 model_selection 模块\n",
    "import pandas as pd\n",
    "from sklearn import model_selection\n",
    "if __name__ == \"__main__\":\n",
    "    # 训练数据保存在名为 train.csv 的 CSV 文件中\n",
    "    df = pd.read_csv(\"DataSet/archive/winequality-red.csv\")\n",
    "    # 添加一个新列 kfold，并用 -1 初始化\n",
    "    df[\"kfold\"] = -1\n",
    "    # 随机打乱数据行\n",
    "    df = df.sample(frac=1).reset_index(drop=True)\n",
    "    # 获取目标变量\n",
    "    y = df.target.values\n",
    "    # y = df['quality'].values\n",
    "    # 初始化 StratifiedKFold 类，设置折数（folds）为 5\n",
    "    kf = model_selection.StratifiedKFold(n_splits=5)\n",
    "    # 使用 StratifiedKFold 对象的 split 方法来获取训练和验证索引\n",
    "    for f, (t_, v_) in enumerate(kf.split(X=df, y=y)):\n",
    "        df.loc[v_, 'kfold'] = f\n",
    "    # 保存包含 kfold 列的新 CSV 文件\n",
    "    df.to_csv(\"DataSet/archive/winequality-red_stratified_folds.csv\", index=False)"
   ]
  },
  {
   "cell_type": "code",
   "execution_count": 71,
   "id": "625b11ac-40db-4d86-b95a-b3791eccd564",
   "metadata": {},
   "outputs": [],
   "source": [
    "df = pd.read_csv(\"DataSet/archive/winequality-red_stratified_folds.csv\")\n",
    "df1 = pd.read_csv(\"DataSet/archive/winequality-red_folds.csv\")"
   ]
  },
  {
   "cell_type": "code",
   "execution_count": 72,
   "id": "e3f09abb-c1a3-4f33-a998-c6a9471619ae",
   "metadata": {},
   "outputs": [],
   "source": [
    "df = df[df['kfold']== 4]\n",
    "df1 = df1[df1['kfold']== 4]"
   ]
  },
  {
   "cell_type": "code",
   "execution_count": 73,
   "id": "9c1513dc-8ff4-4b5f-8302-faa581b4fefa",
   "metadata": {},
   "outputs": [
    {
     "data": {
      "text/plain": [
       "Text(0, 0.5, 'count')"
      ]
     },
     "execution_count": 73,
     "metadata": {},
     "output_type": "execute_result"
    },
    {
     "data": {
      "image/png": "[encoded data removed]",
      "text/plain": [
       "<Figure size 432x288 with 1 Axes>"
      ]
     },
     "metadata": {},
     "output_type": "display_data"
    }
   ],
   "source": [
    "b = sns.countplot(x='quality', data=df)\n",
    "b.set_xlabel(\"quality\", fontsize=20)\n",
    "b.set_ylabel(\"count\", fontsize=20)"
   ]
  },
  {
   "cell_type": "code",
   "execution_count": 74,
   "id": "2ca4a8b1-046a-43a6-a040-5a2e2b0cb64f",
   "metadata": {},
   "outputs": [
    {
     "data": {
      "text/plain": [
       "Text(0, 0.5, 'count')"
      ]
     },
     "execution_count": 74,
     "metadata": {},
     "output_type": "execute_result"
    },
    {
     "data": {
      "image/png": "[encoded data removed]",
      "text/plain": [
       "<Figure size 432x288 with 1 Axes>"
      ]
     },
     "metadata": {},
     "output_type": "display_data"
    }
   ],
   "source": [
    "b = sns.countplot(x='quality', data=df1)\n",
    "b.set_xlabel(\"quality\", fontsize=20)\n",
    "b.set_ylabel(\"count\", fontsize=20)"
   ]
  },
  {
   "cell_type": "markdown",
   "id": "3ec19a58-cad8-4261-a84a-f17c6eacceb2",
   "metadata": {},
   "source": [
    "### 暂留交叉检验\n",
    "数据量大,选择暂留交叉校验\n",
    "在处理时间序列数据时,暂留交叉校验非常常用\n",
    "$\\newline$\n",
    "假设预测一家商店2020年的销售额,拥有2015-2019年的所有数据,可以选择2019年的所有数据作为保留数据,然后在2015-2018年的所有数据上训练模型"
   ]
  },
  {
   "cell_type": "markdown",
   "id": "dfd36bec-9ce5-4279-93e8-faa31a14736a",
   "metadata": {},
   "source": [
    "### 留一交叉校验\n",
    "特殊的k则交叉校验,其中k=N,适用于小型数据集"
   ]
  },
  {
   "cell_type": "markdown",
   "id": "2c70db3b-6429-43c2-b39c-0e2c7fb1bd98",
   "metadata": {},
   "source": [
    "回归问题可以使用除了分层k折交叉校验之外的所有交叉校验技术,大多数情况下,k折交叉校验适用于任何回归问题\n",
    "$\\newline$\n"
   ]
  }
 ],
 "metadata": {
  "kernelspec": {
   "display_name": "Python 3",
   "language": "python",
   "name": "python3"
  },
  "language_info": {
   "codemirror_mode": {
    "name": "ipython",
    "version": 3
   },
   "file_extension": ".py",
   "mimetype": "text/x-python",
   "name": "python",
   "nbconvert_exporter": "python",
   "pygments_lexer": "ipython3",
   "version": "3.6.8"
  }
 },
 "nbformat": 4,
 "nbformat_minor": 5
}
